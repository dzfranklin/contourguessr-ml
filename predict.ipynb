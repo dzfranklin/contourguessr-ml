{
 "cells": [
  {
   "cell_type": "code",
   "id": "d0e1e142bd82fd69",
   "metadata": {
    "ExecuteTime": {
     "end_time": "2024-05-01T12:07:46.605316Z",
     "start_time": "2024-05-01T12:07:46.562013Z"
    }
   },
   "source": [
    "from fastai.learner import load_learner\n",
    "import os"
   ],
   "outputs": [
    {
     "ename": "ImportError",
     "evalue": "cannot import name 'open_image' from 'fastai.vision' (/opt/anaconda3/envs/myai/lib/python3.10/site-packages/fastai/vision/__init__.py)",
     "output_type": "error",
     "traceback": [
      "\u001B[0;31m---------------------------------------------------------------------------\u001B[0m",
      "\u001B[0;31mImportError\u001B[0m                               Traceback (most recent call last)",
      "Cell \u001B[0;32mIn[15], line 4\u001B[0m\n\u001B[1;32m      2\u001B[0m \u001B[38;5;28;01mfrom\u001B[39;00m \u001B[38;5;21;01mfastai\u001B[39;00m\u001B[38;5;21;01m.\u001B[39;00m\u001B[38;5;21;01mlearner\u001B[39;00m \u001B[38;5;28;01mimport\u001B[39;00m load_learner\n\u001B[1;32m      3\u001B[0m \u001B[38;5;28;01mimport\u001B[39;00m \u001B[38;5;21;01mos\u001B[39;00m\n\u001B[0;32m----> 4\u001B[0m \u001B[38;5;28;01mfrom\u001B[39;00m \u001B[38;5;21;01mfastai\u001B[39;00m\u001B[38;5;21;01m.\u001B[39;00m\u001B[38;5;21;01mvision\u001B[39;00m \u001B[38;5;28;01mimport\u001B[39;00m open_image\n",
      "\u001B[0;31mImportError\u001B[0m: cannot import name 'open_image' from 'fastai.vision' (/opt/anaconda3/envs/myai/lib/python3.10/site-packages/fastai/vision/__init__.py)"
     ]
    }
   ],
   "execution_count": 15
  },
  {
   "cell_type": "code",
   "execution_count": 5,
   "id": "9db7c73419ad47b",
   "metadata": {
    "ExecuteTime": {
     "end_time": "2024-05-01T11:55:51.395800Z",
     "start_time": "2024-05-01T11:55:50.729874Z"
    }
   },
   "outputs": [],
   "source": [
    "l = load_learner(\"out/latest.pkl\")"
   ]
  },
  {
   "cell_type": "code",
   "id": "48f14b7ee3888bb3",
   "metadata": {
    "ExecuteTime": {
     "end_time": "2024-05-01T12:05:48.693063Z",
     "start_time": "2024-05-01T12:05:48.565878Z"
    }
   },
   "source": "_, _, probs = l.predict(os.path.expanduser(\"~/cg-test-set/n/flickr:70682212.jpg\"))",
   "outputs": [
    {
     "data": {
      "text/plain": [
       "<IPython.core.display.HTML object>"
      ],
      "text/html": [
       "\n",
       "<style>\n",
       "    /* Turns off some styling */\n",
       "    progress {\n",
       "        /* gets rid of default border in Firefox and Opera. */\n",
       "        border: none;\n",
       "        /* Needs to be in here for Safari polyfill so background images work as expected. */\n",
       "        background-size: auto;\n",
       "    }\n",
       "    progress:not([value]), progress:not([value])::-webkit-progress-bar {\n",
       "        background: repeating-linear-gradient(45deg, #7e7e7e, #7e7e7e 10px, #5c5c5c 10px, #5c5c5c 20px);\n",
       "    }\n",
       "    .progress-bar-interrupted, .progress-bar-interrupted::-webkit-progress-bar {\n",
       "        background: #F44336;\n",
       "    }\n",
       "</style>\n"
      ]
     },
     "metadata": {},
     "output_type": "display_data"
    },
    {
     "data": {
      "text/plain": [
       "<IPython.core.display.HTML object>"
      ],
      "text/html": []
     },
     "metadata": {},
     "output_type": "display_data"
    }
   ],
   "execution_count": 9
  },
  {
   "cell_type": "code",
   "id": "d4165b4b-9198-4141-b5b1-762f7a771ae1",
   "metadata": {
    "ExecuteTime": {
     "end_time": "2024-05-01T12:06:21.405909Z",
     "start_time": "2024-05-01T12:06:21.402712Z"
    }
   },
   "source": "[_, p_y ] = probs.tolist()",
   "outputs": [],
   "execution_count": 13
  },
  {
   "metadata": {
    "ExecuteTime": {
     "end_time": "2024-05-01T12:07:54.751536Z",
     "start_time": "2024-05-01T12:07:54.746928Z"
    }
   },
   "cell_type": "code",
   "source": "p_y",
   "id": "71e97b80bbeb8c81",
   "outputs": [
    {
     "data": {
      "text/plain": [
       "0.28028368949890137"
      ]
     },
     "execution_count": 16,
     "metadata": {},
     "output_type": "execute_result"
    }
   ],
   "execution_count": 16
  },
  {
   "metadata": {},
   "cell_type": "code",
   "outputs": [],
   "execution_count": null,
   "source": "",
   "id": "cdff57be0a042805"
  }
 ],
 "metadata": {
  "kernelspec": {
   "display_name": "Python 3 (ipykernel)",
   "language": "python",
   "name": "python3"
  },
  "language_info": {
   "codemirror_mode": {
    "name": "ipython",
    "version": 3
   },
   "file_extension": ".py",
   "mimetype": "text/x-python",
   "name": "python",
   "nbconvert_exporter": "python",
   "pygments_lexer": "ipython3",
   "version": "3.10.14"
  }
 },
 "nbformat": 4,
 "nbformat_minor": 5
}
